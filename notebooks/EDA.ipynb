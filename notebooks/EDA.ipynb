{
 "cells": [
  {
   "cell_type": "markdown",
   "id": "0978cd65",
   "metadata": {},
   "source": [
    "# Imports"
   ]
  },
  {
   "cell_type": "code",
   "execution_count": 1,
   "id": "dc030379",
   "metadata": {},
   "outputs": [
    {
     "name": "stderr",
     "output_type": "stream",
     "text": [
      "/mnt/d/Workbench/1_coding/0_ml_projects/p1-rock-or-mine-pred-project/p1-rock-or-mine-pred/.venv/lib/python3.11/site-packages/sacred/dependencies.py:11: UserWarning: pkg_resources is deprecated as an API. See https://setuptools.pypa.io/en/latest/pkg_resources.html. The pkg_resources package is slated for removal as early as 2025-11-30. Refrain from using this package or pin to Setuptools<81.\n",
      "  import pkg_resources\n"
     ]
    }
   ],
   "source": [
    "import numpy as np\n",
    "import pandas as pd\n",
    "\n",
    "from pathlib import Path\n",
    "\n",
    "from sklearn.model_selection import train_test_split\n",
    "from sklearn.linear_model import LogisticRegression\n",
    "from sklearn.metrics import accuracy_score, recall_score, precision_score, f1_score, roc_auc_score\n",
    "\n",
    "import sacred\n",
    "from sacred import Experiment\n",
    "from sacred.observers import FileStorageObserver"
   ]
  },
  {
   "cell_type": "code",
   "execution_count": 2,
   "id": "44680aa6",
   "metadata": {},
   "outputs": [],
   "source": [
    "ex = Experiment(\"my_experiment\", interactive=True)\n",
    "ex.observers.append(FileStorageObserver(\"../sacred_experiments\"))"
   ]
  },
  {
   "cell_type": "code",
   "execution_count": 3,
   "id": "74e44498",
   "metadata": {},
   "outputs": [],
   "source": [
    "# ex.run(config_updates={'C': 0.1, 'n_samples': 500, 'k': 5})"
   ]
  },
  {
   "cell_type": "code",
   "execution_count": 4,
   "id": "c98bf522",
   "metadata": {},
   "outputs": [],
   "source": [
    "# path_str = '../data/sonar-data.csv'\n",
    "# dataset_path = Path(path_str)"
   ]
  },
  {
   "cell_type": "code",
   "execution_count": 5,
   "id": "13d8b3f4",
   "metadata": {},
   "outputs": [],
   "source": [
    "@ex.config\n",
    "def config():\n",
    "    penalty='l2'\n",
    "    C=1.0\n",
    "    class_weight=None\n",
    "    n_jobs=None\n",
    "    data_path_str = str('../data/sonar-data.csv')\n",
    "    test_size = float(0.2)\n",
    "    random_state = 42"
   ]
  },
  {
   "cell_type": "code",
   "execution_count": 6,
   "id": "e3289437",
   "metadata": {},
   "outputs": [],
   "source": [
    "@ex.capture\n",
    "def load_model(penalty, C, class_weight, n_jobs):\n",
    "    return LogisticRegression(\n",
    "        penalty=penalty,\n",
    "        C=C,\n",
    "        class_weight=class_weight,\n",
    "        n_jobs=n_jobs,\n",
    "                              )"
   ]
  },
  {
   "cell_type": "code",
   "execution_count": 7,
   "id": "aa7bd726",
   "metadata": {},
   "outputs": [
    {
     "name": "stderr",
     "output_type": "stream",
     "text": [
      "No traceback available to show.\n",
      "INFO - my_experiment - Running command 'my_main'\n",
      "INFO - my_experiment - Started run with ID \"1\"\n",
      "INFO - my_experiment - Completed after 0:00:00\n"
     ]
    },
    {
     "name": "stdout",
     "output_type": "stream",
     "text": [
      "Sonar DataFrame dimmensions:  (208, 61)\n",
      "Value counts on Label: 60\n",
      "M    111\n",
      "R     97\n",
      "Name: count, dtype: int64\n",
      "Value Distribution on Label(%): 60\n",
      "M    53.365385\n",
      "R    46.634615\n",
      "Name: proportion, dtype: float64\n",
      "(208,)\n",
      "(166, 60)\n",
      "(166,)\n",
      "(42, 60)\n",
      "(42,)\n",
      "hey\n",
      "trained\n",
      "(166,)\n",
      "(42,)\n",
      "(166,)\n",
      "0.8373493975903614\n",
      "0.8705882352941177\n",
      "0.8222222222222222\n",
      "0.8457142857142858\n"
     ]
    },
    {
     "data": {
      "text/plain": [
       "<sacred.run.Run at 0x702f2fb4ab50>"
      ]
     },
     "execution_count": 7,
     "metadata": {},
     "output_type": "execute_result"
    }
   ],
   "source": [
    "%tb\n",
    "\n",
    "@ex.main\n",
    "def my_main(data_path_str, test_size, random_state):\n",
    "    \n",
    "    # Loading data into DataFrame\n",
    "    dataset_path = Path(data_path_str)\n",
    "    sonar_data = pd.read_csv(dataset_path, header=None)\n",
    "\n",
    "    # Printing DataFrame dimensions\n",
    "    print(\"Sonar DataFrame dimmensions: \", sonar_data.shape)\n",
    "\n",
    "    # Checking Label Distribution\n",
    "    print(\"Value counts on Label:\", sonar_data[60].value_counts(dropna=False))\n",
    "    \n",
    "    # Checking Label Distribution in %\n",
    "    print(\"Value Distribution on Label(%):\", sonar_data[60].value_counts(dropna=False, normalize=True)*100)\n",
    "    \n",
    "    # Dividing Dataset into X and y\n",
    "    X = sonar_data.drop(columns=60, axis=1)\n",
    "    y = sonar_data[60]\n",
    "\n",
    "    print(y.shape)\n",
    "\n",
    "    # Train/Test split\n",
    "    X_train, X_test, y_train, y_test = train_test_split(X, y, test_size=test_size, random_state=random_state)\n",
    "    print(X_train.shape)\n",
    "    print(y_train.shape)\n",
    "    print(X_test.shape)\n",
    "    print(y_test.shape)\n",
    "    print(\"hey\")\n",
    "    # Declaring the Logistic Reg\n",
    "    model = load_model()\n",
    "\n",
    "    # Fitting the model\n",
    "    model.fit(X_train, y_train)\n",
    "    print(\"trained\")\n",
    "    # Get Train performance\n",
    "    y_train_pred = model.predict(X_train)\n",
    "    print(y_train_pred.shape)\n",
    "    print(y_test.shape)\n",
    "    print(y_train_pred.shape)\n",
    "    train_accuracy = accuracy_score(y_true=y_train, y_pred=y_train_pred)\n",
    "    print(train_accuracy)\n",
    "    train_recall = recall_score(y_true=y_train, y_pred=y_train_pred, labels=['M', 'R'], pos_label='M')\n",
    "    print(train_recall)\n",
    "    train_precision = precision_score(y_true=y_train, y_pred=y_train_pred, labels=['M', 'R'], pos_label='M')\n",
    "    print(train_precision)\n",
    "    train_f1 = f1_score(y_true=y_train, y_pred=y_train_pred, labels=['M', 'R'], pos_label='M')\n",
    "    print(train_f1)\n",
    "\n",
    "    ex.log_scalar(name=\"train accuracy\", value=train_accuracy)\n",
    "    ex.log_scalar(name=\"train recall\", value=train_recall)\n",
    "    ex.log_scalar(name=\"train precision\", value=train_precision)\n",
    "    ex.log_scalar(name=\"train f1\", value=train_f1)\n",
    "\n",
    "    # Get Test performance\n",
    "    y_test_pred = model.predict(X_test)\n",
    "    test_accuracy = accuracy_score(y_true=y_test, y_pred=y_test_pred)\n",
    "    test_recall = recall_score(y_true=y_test, y_pred=y_test_pred, labels=['M', 'R'], pos_label='M')\n",
    "    test_precision = precision_score(y_true=y_test, y_pred=y_test_pred, labels=['M', 'R'], pos_label='M')\n",
    "    test_f1 = f1_score(y_true=y_test, y_pred=y_test_pred, labels=['M', 'R'], pos_label='M')\n",
    "\n",
    "    ex.log_scalar(name=\"test accuracy\", value=test_accuracy)\n",
    "    ex.log_scalar(name=\"test recall\", value=test_recall)\n",
    "    ex.log_scalar(name=\"test precision\", value=test_precision)\n",
    "    ex.log_scalar(name=\"test f1\", value=test_f1)\n",
    "\n",
    "ex.run()"
   ]
  },
  {
   "cell_type": "markdown",
   "id": "4593eb77",
   "metadata": {},
   "source": [
    "# Loading Data"
   ]
  },
  {
   "cell_type": "code",
   "execution_count": 8,
   "id": "6f2f1b3c",
   "metadata": {},
   "outputs": [],
   "source": [
    "# dataset_path = Path(data_path_str)\n",
    "# sonar_data = pd.read_csv(dataset_path, header=None)"
   ]
  },
  {
   "cell_type": "code",
   "execution_count": 9,
   "id": "d1d8f8e0",
   "metadata": {},
   "outputs": [],
   "source": [
    "# sonar_data.head()"
   ]
  },
  {
   "cell_type": "code",
   "execution_count": 10,
   "id": "c2cdcd9d",
   "metadata": {},
   "outputs": [],
   "source": [
    "# sonar_data.info()"
   ]
  },
  {
   "cell_type": "markdown",
   "id": "dba02398",
   "metadata": {},
   "source": [
    "## Checking Features"
   ]
  },
  {
   "cell_type": "code",
   "execution_count": 11,
   "id": "bf871f30",
   "metadata": {},
   "outputs": [],
   "source": [
    "# sonar_data.describe()"
   ]
  },
  {
   "cell_type": "markdown",
   "id": "ac0737f7",
   "metadata": {},
   "source": [
    "There are 59 feature columns of type float64, values are between 0 and 1.\n",
    "There is a single "
   ]
  },
  {
   "cell_type": "markdown",
   "id": "aa5d6ae4",
   "metadata": {},
   "source": [
    "## Checking Label"
   ]
  },
  {
   "cell_type": "code",
   "execution_count": 12,
   "id": "e6a7f31c",
   "metadata": {},
   "outputs": [],
   "source": [
    "# # Checking the label\n",
    "# sonar_data[60].value_counts(dropna=False)"
   ]
  },
  {
   "cell_type": "code",
   "execution_count": 13,
   "id": "84460456",
   "metadata": {},
   "outputs": [],
   "source": [
    "# sonar_data[60].value_counts(dropna=False, normalize=True)*100"
   ]
  },
  {
   "cell_type": "code",
   "execution_count": 14,
   "id": "60b2e9ac",
   "metadata": {},
   "outputs": [],
   "source": [
    "# X = sonar_data.drop(columns=60, axis=1)\n",
    "# Y = sonar_data[60]"
   ]
  },
  {
   "cell_type": "code",
   "execution_count": null,
   "id": "073951c3",
   "metadata": {},
   "outputs": [],
   "source": []
  }
 ],
 "metadata": {
  "kernelspec": {
   "display_name": ".venv",
   "language": "python",
   "name": "python3"
  },
  "language_info": {
   "codemirror_mode": {
    "name": "ipython",
    "version": 3
   },
   "file_extension": ".py",
   "mimetype": "text/x-python",
   "name": "python",
   "nbconvert_exporter": "python",
   "pygments_lexer": "ipython3",
   "version": "3.11.12"
  }
 },
 "nbformat": 4,
 "nbformat_minor": 5
}
